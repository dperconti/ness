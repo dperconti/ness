{
 "cells": [
  {
   "cell_type": "markdown",
   "id": "8ebb90a1",
   "metadata": {},
   "source": [
    "## Distance Between Cities\n",
    "\n",
    "The CSV file /home/coderpad/data/city-distance.csv contains a table of cities and the distance between them.\n",
    "The top row and the left most column contains names of cities, and the cells on the grid\n",
    "contains the distance between them. Below is an example of a CSV with a few cities:\n",
    "\n",
    "| City |  City A |  City B |  City C |  City D |  City E |  City F |  City G |  City H |\n",
    "| ---- | ---- | ---- | ---- | ---- | ---- | ---- | ---- | ---- |\n",
    "| City A | 0 | 135 | 193 | 337 | 201 | 388 | 218 | 65 |\n",
    "| City B | 135 | 0 | 276 | 477 | 328 | 508 | 307 | 80 |\n",
    "| City C | 193 | 276 | 0 | 540 | 69 | 211 | 115 | 355 |\n",
    "| City D | 337 | 477 | 540 | 0 | 508 | 227 | 502 | 406 |\n",
    "| City E | 201 | 328 | 69 | 508 | 0 | 280 | 177 | 425 |\n",
    "| City F | 388 | 508 | 211 | 227 | 280 | 0 | 303 | 570 |\n",
    "| City G | 218 | 307 | 115 | 502 | 177 | 303 | 0 | 340 |\n",
    "| City H | 65 | 80 | 355 | 406 | 425 | 570 | 340 | 0 |\n",
    "\n",
    "\n",
    "The objective of the exercise is to find the two cities with the largest distance\n",
    "between them. In the example above, the two cities would be City F and City H because\n",
    "the distance between them (570 miles) is greater than any other distance."
   ]
  },
  {
   "cell_type": "code",
   "execution_count": 5,
   "id": "e50620fc",
   "metadata": {},
   "outputs": [],
   "source": [
    "## Imports\n",
    "import csv\n",
    "\n",
    "## Helper function:\n",
    "## The CSV reader reads in the items as strings. We need to safely cast them to Strings. \n",
    "\n",
    "def safe_cast(val, to_type, default=None):\n",
    "    try:\n",
    "        return to_type(val)\n",
    "    except (ValueError, TypeError):\n",
    "        return default"
   ]
  },
  {
   "cell_type": "markdown",
   "id": "f0a40c21",
   "metadata": {},
   "source": [
    "## Brute Force\n",
    "\n",
    "The most obvious solution is to go through each column and row, comparing the previous highest value and the relative coordinates. "
   ]
  },
  {
   "cell_type": "code",
   "execution_count": 6,
   "id": "fa1dfa06",
   "metadata": {},
   "outputs": [],
   "source": [
    "def brute_force():\n",
    "    with open(\"./cities.csv\", mode=\"r\") as file:\n",
    "        csvFile = csv.reader(file)\n",
    "        csv_list = list(csvFile)\n",
    "\n",
    "        max_distance = 0\n",
    "        cities = ()\n",
    "\n",
    "        for y_index, y_axis in enumerate(csv_list):\n",
    "            for x_index, x_axis in enumerate(y_axis):\n",
    "                x_axis_int = safe_cast(x_axis, int, 0)\n",
    "                if x_axis_int >= max_distance:\n",
    "                    cities = (csv_list[0][x_index], csv_list[y_index][0])\n",
    "                    max_distance = x_axis_int\n",
    "\n",
    "        print(max_distance)\n",
    "        print(cities)"
   ]
  },
  {
   "cell_type": "markdown",
   "id": "e81e94da",
   "metadata": {},
   "source": [
    "## Reducing Loops\n",
    "\n",
    "The second strategy is to remove any dupliucate comparissons. With this reduction, the numbers that we should be comparing would look like this:\n",
    "\n",
    "```\n",
    "    135\n",
    "\n",
    "    193  276\n",
    "\n",
    "    337  477  540\n",
    "\n",
    "    201  328  69  508\n",
    "\n",
    "    388  508  211  227  280\n",
    "\n",
    "    218  307  115  502  177  303\n",
    "\n",
    "    65  80  355  406  425  570  340\n",
    "```\n"
   ]
  },
  {
   "cell_type": "code",
   "execution_count": 7,
   "id": "8898a640",
   "metadata": {},
   "outputs": [],
   "source": [
    "def efficient():\n",
    "    \"\"\"\n",
    "    135\n",
    "\n",
    "    193  276\n",
    "\n",
    "    337  477  540\n",
    "\n",
    "    201  328  69  508\n",
    "\n",
    "    388  508  211  227  280\n",
    "\n",
    "    218  307  115  502  177  303\n",
    "\n",
    "    65  80  355  406  425  570  340\n",
    "    \"\"\"\n",
    "    with open(\"./cities.csv\", mode=\"r\") as file:\n",
    "        csvFile = csv.reader(file)\n",
    "        csv_list = list(csvFile)\n",
    "\n",
    "        max_distance = 0\n",
    "        cities = ()\n",
    "\n",
    "        for y_index in range(1, len(csv_list)):\n",
    "            for x_index in range(1, y_index):\n",
    "                x_axis_int = safe_cast(csv_list[y_index][x_index], int, 0)\n",
    "                if x_axis_int >= max_distance:\n",
    "                    cities = (csv_list[0][x_index], csv_list[y_index][0])\n",
    "                    max_distance = x_axis_int\n",
    "        print(max_distance)\n",
    "        print(cities)"
   ]
  },
  {
   "cell_type": "code",
   "execution_count": 8,
   "id": "35e31aa1",
   "metadata": {},
   "outputs": [
    {
     "name": "stdout",
     "output_type": "stream",
     "text": [
      "570\n",
      "(' City F', 'City H')\n",
      "570\n",
      "(' City F', 'City H')\n"
     ]
    }
   ],
   "source": [
    "brute_force()\n",
    "efficient()"
   ]
  },
  {
   "cell_type": "code",
   "execution_count": null,
   "id": "c3fea544",
   "metadata": {},
   "outputs": [],
   "source": []
  }
 ],
 "metadata": {
  "kernelspec": {
   "display_name": "Python 3 (ipykernel)",
   "language": "python",
   "name": "python3"
  },
  "language_info": {
   "codemirror_mode": {
    "name": "ipython",
    "version": 3
   },
   "file_extension": ".py",
   "mimetype": "text/x-python",
   "name": "python",
   "nbconvert_exporter": "python",
   "pygments_lexer": "ipython3",
   "version": "3.10.9"
  }
 },
 "nbformat": 4,
 "nbformat_minor": 5
}
